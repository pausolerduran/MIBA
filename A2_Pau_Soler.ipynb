{
 "cells": [
  {
   "cell_type": "markdown",
   "id": "9abb9405-cc27-46ec-8585-aa658528dc0e",
   "metadata": {},
   "source": [
    " Exercise 1: FizzBuzz\n",
    "1. Write a FizzBuzz Function: Create a function fizzbuzz(n) that takes an integer n as a parameter.\n",
    "\n",
    "2. Implement FizzBuzz Logic: The function should print:\n",
    "○ \"Fizz\" for multiples of 3\n",
    "○ \"Buzz\" for multiples of 5\n",
    "○ \"FizzBuzz\" for multiples of both 3 and 5\n",
    "○ The number itself for other numbers\n",
    "\n",
    "\n",
    "3. Call the Function: Call the function for numbers 1 to 20.\n"
   ]
  },
  {
   "cell_type": "code",
   "execution_count": 13,
   "id": "6cd1d1b5-afa8-4bcb-878a-6d99c6de8acb",
   "metadata": {},
   "outputs": [
    {
     "name": "stdout",
     "output_type": "stream",
     "text": [
      "1\n",
      "2\n",
      "Buzz\n",
      "4\n",
      "FizzBuzz\n",
      "Buzz\n",
      "7\n",
      "8\n",
      "Buzz\n",
      "FizzBuzz\n",
      "11\n",
      "Buzz\n",
      "13\n",
      "14\n",
      "Fizz\n",
      "16\n",
      "17\n",
      "Buzz\n",
      "19\n",
      "FizzBuzz\n"
     ]
    }
   ],
   "source": [
    "def fizzbuzz(n):\n",
    "    for i in range(1, n+1):\n",
    "        if i % 3 == 0 and i % 5 == 0:\n",
    "            print(\"Fizz\")\n",
    "        elif i % 3 == 0:\n",
    "            print(\"Buzz\")\n",
    "        elif i % 5 == 0: \n",
    "            print(\"FizzBuzz\")\n",
    "        else:\n",
    "            print(i)\n",
    "fizzbuzz(20)"
   ]
  },
  {
   "cell_type": "markdown",
   "id": "c8935923-6c08-48ad-a4bf-ebea9fc61d39",
   "metadata": {},
   "source": [
    "Exercise 2: Basic Data Filtering\n",
    "1. Create a List of Mixed Data Types: Create a list that contains a mix of integers, strings, and floats.\n",
    "2. Filter the List: Use list comprehension to create a new list that contains only the integers from the original list.\n",
    "3. Print the New List: Output the filtered list of integers.\n",
    " "
   ]
  },
  {
   "cell_type": "code",
   "execution_count": 15,
   "id": "653325d0-0457-4b81-8dd8-6843563132e0",
   "metadata": {},
   "outputs": [
    {
     "name": "stdout",
     "output_type": "stream",
     "text": [
      "[3, 12, 4, 200]\n"
     ]
    }
   ],
   "source": [
    "mixed_list = [3, 'Pau', 5.87, 12, 'Data', 4, 99.4, 200]\n",
    "integrer_list = []\n",
    "\n",
    "for item in mixed_list:\n",
    "    if type(item) == int:\n",
    "        integrer_list.append(item)\n",
    "\n",
    "print(integrer_list)"
   ]
  },
  {
   "cell_type": "markdown",
   "id": "becdbd7e-7b3c-43c5-a683-a4908c07e154",
   "metadata": {},
   "source": [
    "Exercise 3: Simple To-Do List\n",
    "1. Create an Empty List: Start with an empty list called todo_list.\n",
    "2. Define Functions:\n",
    "○ A function add_task(task) that adds a task to the list.\n",
    "○ A function show_tasks() that prints all tasks in the list.\n"
   ]
  },
  {
   "cell_type": "code",
   "execution_count": null,
   "id": "4b64c793-22a7-4d61-97b9-42aa9504c094",
   "metadata": {},
   "outputs": [],
   "source": [
    "todo_list = []\n",
    "\n",
    "def add_task(task):\n",
    "    todo_list.append(task)\n",
    "\n",
    "def show_tasks():\n",
    "    for task in todo_list:\n",
    "    print(task)\n",
    "    "
   ]
  },
  {
   "cell_type": "markdown",
   "id": "277cc159-e91b-42db-a1aa-5a9a1843bc7f",
   "metadata": {},
   "source": [
    "Exercise 4: Temperature Converter\n",
    "1. Define a Conversion Function: Write a function celsius_to_fahrenheit(celsius) that converts Celsius to Fahrenheit.\n",
    "2. Print the Result: Output the converted temperature for 22oF, 46oF, 51oF and 76oF.\n",
    " "
   ]
  },
  {
   "cell_type": "code",
   "execution_count": 23,
   "id": "0e375f3c-4363-4794-ba44-5e49f5bd5ae7",
   "metadata": {},
   "outputs": [
    {
     "name": "stdout",
     "output_type": "stream",
     "text": [
      "71.6\n",
      "114.8\n",
      "123.8\n",
      "168.8\n"
     ]
    }
   ],
   "source": [
    "def celsius_to_fahrenheit(celsius):\n",
    "    return(celsius * 9/5 + 32)\n",
    "\n",
    "print(celsius_to_fahrenheit(22))\n",
    "print(celsius_to_fahrenheit(46))\n",
    "print(celsius_to_fahrenheit(51))\n",
    "print(celsius_to_fahrenheit(76))"
   ]
  },
  {
   "cell_type": "code",
   "execution_count": null,
   "id": "260fdf44-e35e-4f0e-841e-544f7cbe4190",
   "metadata": {},
   "outputs": [],
   "source": []
  },
  {
   "cell_type": "code",
   "execution_count": null,
   "id": "f69ddd80-b600-4fb1-ad2b-10fb6eddec9b",
   "metadata": {},
   "outputs": [],
   "source": []
  },
  {
   "cell_type": "code",
   "execution_count": null,
   "id": "044281d0-033e-448e-a814-ffebe0a5c2dc",
   "metadata": {},
   "outputs": [],
   "source": []
  }
 ],
 "metadata": {
  "kernelspec": {
   "display_name": "Python 3 (ipykernel)",
   "language": "python",
   "name": "python3"
  },
  "language_info": {
   "codemirror_mode": {
    "name": "ipython",
    "version": 3
   },
   "file_extension": ".py",
   "mimetype": "text/x-python",
   "name": "python",
   "nbconvert_exporter": "python",
   "pygments_lexer": "ipython3",
   "version": "3.10.14"
  }
 },
 "nbformat": 4,
 "nbformat_minor": 5
}
