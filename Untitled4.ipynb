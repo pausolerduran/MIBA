{
 "cells": [
  {
   "cell_type": "raw",
   "id": "d3ee5383-2559-46e6-af06-78a4ac0b1ea1",
   "metadata": {},
   "source": [
    "Exercise 1: Print a Greeting\n",
    "● Write a Python program that prints a greeting message, such as \"Hello, Python!\"."
   ]
  },
  {
   "cell_type": "code",
   "execution_count": 1,
   "id": "c97ed7a9-a7e2-44c5-94b2-6ce0fe033206",
   "metadata": {},
   "outputs": [
    {
     "name": "stdout",
     "output_type": "stream",
     "text": [
      "Hello, Python!\n"
     ]
    }
   ],
   "source": [
    "print('Hello, Python!')"
   ]
  },
  {
   "cell_type": "raw",
   "id": "acb8b652-99dc-4cc3-93a5-925c88168a74",
   "metadata": {},
   "source": [
    "Exercise 2: Basic Arithmetic\n",
    "● Create a program that:\n",
    "○ Defines two variables, a and b, with numerical values.\n",
    "○ Prints their sum, difference, product, and quotient."
   ]
  },
  {
   "cell_type": "code",
   "execution_count": 7,
   "id": "e5d5a2a5-6317-45f8-910b-4698a7966928",
   "metadata": {},
   "outputs": [
    {
     "name": "stdout",
     "output_type": "stream",
     "text": [
      "9\n",
      "5\n",
      "14\n",
      "3.5\n"
     ]
    }
   ],
   "source": [
    "a = 7\n",
    "b = 2\n",
    "sum = a + b\n",
    "difference = a - b\n",
    "product = a * b\n",
    "quotient = a / b\n",
    "\n",
    "print(sum)\n",
    "print(difference)\n",
    "print(product)\n",
    "print(quotient)"
   ]
  },
  {
   "cell_type": "raw",
   "id": "af55c317-c97f-4579-96ab-6549fbe4949c",
   "metadata": {},
   "source": [
    "Exercise 3: String Manipulation\n",
    "Define a variable name and assign it your name. Write a program that prints a message saying \"Hello, [name]!\" where [name] is the value of the variable."
   ]
  },
  {
   "cell_type": "code",
   "execution_count": 21,
   "id": "4f9c3964-6e22-43d6-9b1b-343efff57b9b",
   "metadata": {},
   "outputs": [
    {
     "name": "stdout",
     "output_type": "stream",
     "text": [
      "Hello, Pau!\n"
     ]
    }
   ],
   "source": [
    "name = 'Pau'\n",
    "\n",
    "print(f'Hello, {name}!')"
   ]
  },
  {
   "cell_type": "raw",
   "id": "46e462c6-d6c0-4d2f-bfd8-0d3df1eab65b",
   "metadata": {},
   "source": [
    "Exercise 4: Lists\n",
    "● Create a list called universities with at least five different university names.\n",
    "● Print the entire list.\n",
    "● Print the first and last university in the list."
   ]
  },
  {
   "cell_type": "code",
   "execution_count": 25,
   "id": "8c977db2-a365-4f13-884e-4cca420ae3cf",
   "metadata": {},
   "outputs": [
    {
     "name": "stdout",
     "output_type": "stream",
     "text": [
      "['ESADE', 'UPC', 'UOC', 'UIC', 'UAB']\n",
      "ESADE\n",
      "UAB\n"
     ]
    }
   ],
   "source": [
    "universities = ['ESADE','UPC','UOC','UIC','UAB']\n",
    "print(universities)\n",
    "print(universities[0])\n",
    "print(universities[-1])"
   ]
  },
  {
   "cell_type": "raw",
   "id": "68a3faa2-9f19-40f6-a622-5464f8ed5f5b",
   "metadata": {},
   "source": [
    "Exercise 5: Dictionaries\n",
    "● Create a dictionary called student with keys: name, age, and grade, and assign appropriate values to each key.\n",
    "● Write a program that prints each key-value pair in the dictionary."
   ]
  },
  {
   "cell_type": "code",
   "execution_count": 31,
   "id": "c9f1bfcb-753f-46de-aa9e-8ac26d3f5780",
   "metadata": {},
   "outputs": [
    {
     "name": "stdout",
     "output_type": "stream",
     "text": [
      "{'name': 'Pau', 'age': 21, 'grade': 9}\n"
     ]
    }
   ],
   "source": [
    "student = {'name' :'Pau' , 'age':21 , 'grade':9 }\n",
    "print(student)"
   ]
  },
  {
   "cell_type": "raw",
   "id": "07533ffd-6949-444c-b241-35d18e16ec5b",
   "metadata": {},
   "source": [
    " Exercise 6: Tuples\n",
    "● Define a tuple called coordinates with two values representing a point in 2D space (e.g., (x, y)).\n",
    "● Print the value of coordinates and access each element by its index."
   ]
  },
  {
   "cell_type": "code",
   "execution_count": 37,
   "id": "3bf15d4f-621b-4814-8f62-7bb8945d67f2",
   "metadata": {},
   "outputs": [
    {
     "name": "stdout",
     "output_type": "stream",
     "text": [
      "x: 7\n",
      "y: 3\n"
     ]
    }
   ],
   "source": [
    "coordinates = (7,3)\n",
    "print('x:',coordinates[0])\n",
    "print('y:',coordinates[1])"
   ]
  },
  {
   "cell_type": "raw",
   "id": "8daee86f-4e54-4d78-be78-48edf320dff1",
   "metadata": {},
   "source": [
    "Exercise 7: Sets\n",
    "● Create a set called colors with the values: \"red\", \"green\", \"blue\".\n",
    "● Add another color to the set.\n",
    "● Try adding a duplicate color and observe what happens.\n",
    "● Print the set and remove one color from it.\n",
    "● Create another set named light_colors and merge colors and light_colors."
   ]
  },
  {
   "cell_type": "code",
   "execution_count": 45,
   "id": "fdabfc34-7873-471a-91b1-7489017f803d",
   "metadata": {},
   "outputs": [
    {
     "name": "stdout",
     "output_type": "stream",
     "text": [
      "{'green', 'blue', 'red', 'yellow'}\n",
      "{'green', 'blue', 'red', 'yellow'}\n",
      "{'blue', 'red', 'yellow'}\n",
      "{'light red', 'light green', 'red', 'blue', 'light blue', 'yellow'}\n"
     ]
    }
   ],
   "source": [
    "colors = {'red','green','blue'}\n",
    "colors.add('yellow')\n",
    "print(colors)\n",
    "colors.add('red')\n",
    "print(colors)\n",
    "colors.remove('green')\n",
    "print(colors)\n",
    "light_colors ={'light red','light green','light blue'} \n",
    "colors = colors.union(light_colors)\n",
    "print(colors)"
   ]
  },
  {
   "cell_type": "raw",
   "id": "2116e08c-156f-4370-a4de-d18607820088",
   "metadata": {},
   "source": [
    "Exercise 8: Conditional Statements\n",
    "● Write a program that:\n",
    "○ Takes an input number from the user.\n",
    "○ Checks if the number is positive, negative, or zero.\n",
    "○ Prints an appropriate message based on the result."
   ]
  },
  {
   "cell_type": "code",
   "execution_count": 53,
   "id": "272ba548-1128-49cc-8211-7bbb65271ca5",
   "metadata": {},
   "outputs": [
    {
     "name": "stdin",
     "output_type": "stream",
     "text": [
      "Enter a number: 1\n"
     ]
    },
    {
     "name": "stdout",
     "output_type": "stream",
     "text": [
      "The number is positive\n"
     ]
    }
   ],
   "source": [
    "number = float(input(\"Enter a number:\"))\n",
    "if number > 0:\n",
    "    print('The number is positive')\n",
    "elif number < 0:\n",
    "    print('The number is negative')\n",
    "else:\n",
    "    print('The number is zero')"
   ]
  },
  {
   "cell_type": "raw",
   "id": "3e4f8386-c140-4ebb-be51-c22b67d37fe5",
   "metadata": {},
   "source": [
    "Exercise 9: For Loop\n",
    "● Create a list of numbers from 1 to 5.\n",
    "● Use a for loop to iterate through the list and print each number.\n"
   ]
  },
  {
   "cell_type": "code",
   "execution_count": 1,
   "id": "a23db467-74f4-4bab-85bd-fe48d984415b",
   "metadata": {},
   "outputs": [
    {
     "name": "stdout",
     "output_type": "stream",
     "text": [
      "1\n",
      "2\n",
      "3\n",
      "4\n",
      "5\n"
     ]
    }
   ],
   "source": [
    "list = [1,2,3,4,5]\n",
    "for number in list:\n",
    "    print(number)"
   ]
  },
  {
   "cell_type": "raw",
   "id": "aba0c3c2-c844-45e1-9833-63e0c32ff383",
   "metadata": {},
   "source": [
    "Exercise 10: While Loop\n",
    "● Write a program that uses a while loop to print numbers from 1 to 5.\n",
    "● Ensure the loop terminates correctly."
   ]
  },
  {
   "cell_type": "code",
   "execution_count": 5,
   "id": "f4511db0-baf1-4ec3-b472-085ea8b22455",
   "metadata": {},
   "outputs": [
    {
     "name": "stdout",
     "output_type": "stream",
     "text": [
      "0\n",
      "1\n",
      "2\n",
      "3\n",
      "4\n",
      "5\n"
     ]
    }
   ],
   "source": [
    "counter = 0\n",
    "\n",
    "while number <= 5:\n",
    "    print(counter)\n",
    "    counter += 1  "
   ]
  },
  {
   "cell_type": "raw",
   "id": "da931e62-9a97-4463-91a1-5242b257fa80",
   "metadata": {},
   "source": [
    "Exercise 11: Match Statement (Python 3.10+)\n",
    "● Write a program that:\n",
    "○ Asks the user to input a grade (e.g., \"A\", \"B\", \"C\", \"D\", or \"F\").\n",
    "○ Use a match statement to print a corresponding message for each grade:\n",
    "■ \"A\": \"Excellent!\"\n",
    "■ \"B\": \"Good job!\"\n",
    "■ \"C\": \"Fair.\"\n",
    "■ \"D\": \"Needs improvement.\"\n",
    "■ \"F\": \"Failing.\"\n",
    "○ Handle invalid input by printing a default message."
   ]
  },
  {
   "cell_type": "code",
   "execution_count": 13,
   "id": "6a2fa3f6-3848-4fcd-a773-8e3b9bafc011",
   "metadata": {},
   "outputs": [
    {
     "name": "stdin",
     "output_type": "stream",
     "text": [
      "Enter a grade (A, B, C, D, or F):  Z\n"
     ]
    },
    {
     "name": "stdout",
     "output_type": "stream",
     "text": [
      "Invalid Grade\n"
     ]
    }
   ],
   "source": [
    "grade = input(\"Enter a grade (A, B, C, D, or F): \")\n",
    "match grade:\n",
    "    case 'A':\n",
    "        print('Excellent!')\n",
    "    case 'B':\n",
    "        print('Good Job!')\n",
    "    case 'C':\n",
    "        print('Fair.')\n",
    "    case 'D':\n",
    "        print('Needs Improvement')\n",
    "    case 'F':\n",
    "        print('Failing')\n",
    "    case _:\n",
    "        print('Invalid Grade')"
   ]
  },
  {
   "cell_type": "raw",
   "id": "c7c8d82e-2bc7-4880-997e-b4610a5c225d",
   "metadata": {},
   "source": [
    "Exercise 12: Define a Function\n",
    "● Write a function called greet that takes a name as an argument and prints \"Hello, [name]!\".\n",
    "● Call the function with your own name."
   ]
  },
  {
   "cell_type": "code",
   "execution_count": 21,
   "id": "52ab294c-19e6-479f-84ce-416e26b5922f",
   "metadata": {},
   "outputs": [
    {
     "name": "stdout",
     "output_type": "stream",
     "text": [
      "Hello, Pau!\n"
     ]
    }
   ],
   "source": [
    "def greet(name):\n",
    "    print(f\"Hello, {name}!\")\n",
    "greet(\"Pau\")"
   ]
  },
  {
   "cell_type": "raw",
   "id": "1307bf0d-85e1-4c07-9275-beb48a97dfde",
   "metadata": {},
   "source": [
    "Exercise 13: Function with Return Value\n",
    "● Define a function called square that takes a number as an argument and returns its square.\n",
    "● Print the result of calling this function with different numbers."
   ]
  },
  {
   "cell_type": "code",
   "execution_count": 25,
   "id": "4b258b02-715e-4f10-b412-d8b1cd50346b",
   "metadata": {},
   "outputs": [
    {
     "name": "stdout",
     "output_type": "stream",
     "text": [
      "16\n"
     ]
    }
   ],
   "source": [
    "def square(number):\n",
    "    print(number**2)\n",
    "square(4)"
   ]
  },
  {
   "cell_type": "raw",
   "id": "4ddf45d8-22d2-44a8-803e-1c1bb7bd3f09",
   "metadata": {},
   "source": [
    "Exercise 14: Function with Default Parameters\n",
    "● Write a function called multiply that takes two parameters, a and b, and returns their product. Set a default value of 1 for the parameter b.\n",
    "● Test the function with and without providing the second argument."
   ]
  },
  {
   "cell_type": "code",
   "execution_count": 41,
   "id": "75a61d8a-805a-49ae-8a7d-195a0cdfd9bc",
   "metadata": {},
   "outputs": [
    {
     "name": "stdout",
     "output_type": "stream",
     "text": [
      "5\n",
      "5\n"
     ]
    }
   ],
   "source": [
    "def multiply(a,b=1):\n",
    "    print(a*b)\n",
    "multiply(5,1)\n",
    "multiply(5)"
   ]
  },
  {
   "cell_type": "raw",
   "id": "c34e54fb-550d-40c8-b879-298e1715aa3d",
   "metadata": {},
   "source": [
    "Exercise 15: List Comprehension\n",
    "● Create a list of numbers from 1 to 10.\n",
    "● Use list comprehension to create a new list that contains the squares of these numbers.\n",
    "● Print the new list.\n"
   ]
  },
  {
   "cell_type": "code",
   "execution_count": 37,
   "id": "745925d8-b20e-459d-9c71-73a5ea40419c",
   "metadata": {},
   "outputs": [
    {
     "name": "stdout",
     "output_type": "stream",
     "text": [
      "[1, 4, 9, 16, 25, 36, 49, 64, 81, 100]\n"
     ]
    }
   ],
   "source": [
    "numbers = [1,2,3,4,5,6,7,8,9,10]\n",
    "squared = [n**2 for n in numbers]\n",
    "print(squared)"
   ]
  },
  {
   "cell_type": "raw",
   "id": "38cced70-3223-40ce-9e57-e312b5a0996a",
   "metadata": {},
   "source": [
    "Exercise 16: Nested Data Structures\n",
    "● Create a dictionary where the keys are names of students and the values are lists of their grades.\n",
    "● Write a function that takes the dictionary and prints the average grade for each student."
   ]
  },
  {
   "cell_type": "code",
   "execution_count": 45,
   "id": "53322e14-3f0a-479c-bace-8663d891c2cb",
   "metadata": {},
   "outputs": [
    {
     "name": "stdout",
     "output_type": "stream",
     "text": [
      "Pau's average grade: 8.00\n",
      "Mar's average grade: 4.67\n",
      "David's average grade: 5.00\n"
     ]
    }
   ],
   "source": [
    "\n",
    "students = { \"Pau\": [8, 9, 7], \"Mar\": [2, 8, 4], \"David\": [7, 5, 3]}\n",
    "\n",
    "def print_average_grades(students_dict):\n",
    "    for student, grades in students_dict.items():\n",
    "        average = sum(grades) / len(grades)\n",
    "        print(f\"{student}'s average grade: {average:.2f}\")\n",
    "\n",
    "print_average_grades(students)"
   ]
  },
  {
   "cell_type": "raw",
   "id": "16b46cd7-de7e-47c2-8eb4-2266c5c12014",
   "metadata": {},
   "source": [
    "Exercise 17: Simple Calculator\n",
    "● Write a program that:\n",
    "○ Defines a function calculate which takes three parameters: two numbers and an operator (+, -, *, /).\n",
    "○ Performs the operation and returns the result.\n",
    "○ Ask the user for the two numbers and the operator, then call the function and print the result."
   ]
  },
  {
   "cell_type": "code",
   "execution_count": 55,
   "id": "466a6ab2-41b9-417d-802b-7fdd8b97b7a4",
   "metadata": {},
   "outputs": [
    {
     "name": "stdin",
     "output_type": "stream",
     "text": [
      "Enter the first number:  1\n",
      "Enter the second number:  4\n",
      "Enter the operator (+, -, *, /):  +\n"
     ]
    },
    {
     "name": "stdout",
     "output_type": "stream",
     "text": [
      "The result is: 5.0\n"
     ]
    }
   ],
   "source": [
    "num1 = float(input(\"Enter the first number: \"))\n",
    "num2 = float(input(\"Enter the second number: \"))\n",
    "operator = input(\"Enter the operator (+, -, *, /): \")\n",
    "\n",
    "def calculate(num1, num2, operator):\n",
    "    if operator == '+':\n",
    "        return num1 + num2\n",
    "    elif operator == '-':\n",
    "        return num1 - num2\n",
    "    elif operator == '*':\n",
    "        return num1 * num2\n",
    "    elif operator == '/':\n",
    "        return num1 / num2\n",
    "    else:\n",
    "        return \"Error: Invalid operator\"\n",
    "\n",
    "result = calculate(num1, num2, operator)\n",
    "print(f\"The result is: {result}\")"
   ]
  }
 ],
 "metadata": {
  "kernelspec": {
   "display_name": "Python 3 (ipykernel)",
   "language": "python",
   "name": "python3"
  },
  "language_info": {
   "codemirror_mode": {
    "name": "ipython",
    "version": 3
   },
   "file_extension": ".py",
   "mimetype": "text/x-python",
   "name": "python",
   "nbconvert_exporter": "python",
   "pygments_lexer": "ipython3",
   "version": "3.10.14"
  }
 },
 "nbformat": 4,
 "nbformat_minor": 5
}
